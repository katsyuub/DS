{
  "cells": [
    {
      "cell_type": "markdown",
      "id": "063b92ca",
      "metadata": {
        "deletable": false,
        "editable": false,
        "id": "063b92ca"
      },
      "source": [
        "# Исследование надежности заемщиков\n"
      ]
    },
    {
      "cell_type": "markdown",
      "id": "70d39e83",
      "metadata": {
        "deletable": false,
        "editable": false,
        "id": "70d39e83"
      },
      "source": [
        "## Откройте таблицу и изучите общую информацию о данных"
      ]
    },
    {
      "cell_type": "markdown",
      "id": "0bd07c14",
      "metadata": {
        "deletable": false,
        "editable": false,
        "id": "0bd07c14"
      },
      "source": [
        "**Задание 1. Импортируйте библиотеку pandas. Считайте данные из csv-файла в датафрейм и сохраните в переменную `data`. Путь к файлу:**\n",
        "\n",
        "`/datasets/data.csv`"
      ]
    },
    {
      "cell_type": "code",
      "execution_count": null,
      "id": "bf1428b8",
      "metadata": {
        "deletable": false,
        "id": "bf1428b8",
        "trusted": false
      },
      "outputs": [],
      "source": [
        "import seaborn as sns\n",
        "import pandas as pd\n",
        "\n",
        "try:\n",
        "    data = pd.read_csv('/datasets/data.csv')\n",
        "except:\n",
        "    data = pd.read_csv('https://code.s3.yandex.net/datasets/data.csv')"
      ]
    },
    {
      "cell_type": "markdown",
      "id": "8f757230",
      "metadata": {
        "deletable": false,
        "editable": false,
        "id": "8f757230"
      },
      "source": [
        "**Задание 2. Выведите первые 20 строчек датафрейма `data` на экран.**"
      ]
    },
    {
      "cell_type": "code",
      "execution_count": null,
      "id": "e0691168",
      "metadata": {
        "deletable": false,
        "id": "e0691168",
        "outputId": "1a8f3ef2-d323-4ec2-ddf7-89670b5944c4",
        "trusted": false
      },
      "outputs": [
        {
          "data": {
            "text/html": "<div>\n<style scoped>\n    .dataframe tbody tr th:only-of-type {\n        vertical-align: middle;\n    }\n\n    .dataframe tbody tr th {\n        vertical-align: top;\n    }\n\n    .dataframe thead th {\n        text-align: right;\n    }\n</style>\n<table border=\"1\" class=\"dataframe\">\n  <thead>\n    <tr style=\"text-align: right;\">\n      <th></th>\n      <th>children</th>\n      <th>days_employed</th>\n      <th>dob_years</th>\n      <th>education</th>\n      <th>education_id</th>\n      <th>family_status</th>\n      <th>family_status_id</th>\n      <th>gender</th>\n      <th>income_type</th>\n      <th>debt</th>\n      <th>total_income</th>\n      <th>purpose</th>\n    </tr>\n  </thead>\n  <tbody>\n    <tr>\n      <th>0</th>\n      <td>1</td>\n      <td>-8437.673028</td>\n      <td>42</td>\n      <td>высшее</td>\n      <td>0</td>\n      <td>женат / замужем</td>\n      <td>0</td>\n      <td>F</td>\n      <td>сотрудник</td>\n      <td>0</td>\n      <td>253875.639453</td>\n      <td>покупка жилья</td>\n    </tr>\n    <tr>\n      <th>1</th>\n      <td>1</td>\n      <td>-4024.803754</td>\n      <td>36</td>\n      <td>среднее</td>\n      <td>1</td>\n      <td>женат / замужем</td>\n      <td>0</td>\n      <td>F</td>\n      <td>сотрудник</td>\n      <td>0</td>\n      <td>112080.014102</td>\n      <td>приобретение автомобиля</td>\n    </tr>\n    <tr>\n      <th>2</th>\n      <td>0</td>\n      <td>-5623.422610</td>\n      <td>33</td>\n      <td>Среднее</td>\n      <td>1</td>\n      <td>женат / замужем</td>\n      <td>0</td>\n      <td>M</td>\n      <td>сотрудник</td>\n      <td>0</td>\n      <td>145885.952297</td>\n      <td>покупка жилья</td>\n    </tr>\n    <tr>\n      <th>3</th>\n      <td>3</td>\n      <td>-4124.747207</td>\n      <td>32</td>\n      <td>среднее</td>\n      <td>1</td>\n      <td>женат / замужем</td>\n      <td>0</td>\n      <td>M</td>\n      <td>сотрудник</td>\n      <td>0</td>\n      <td>267628.550329</td>\n      <td>дополнительное образование</td>\n    </tr>\n    <tr>\n      <th>4</th>\n      <td>0</td>\n      <td>340266.072047</td>\n      <td>53</td>\n      <td>среднее</td>\n      <td>1</td>\n      <td>гражданский брак</td>\n      <td>1</td>\n      <td>F</td>\n      <td>пенсионер</td>\n      <td>0</td>\n      <td>158616.077870</td>\n      <td>сыграть свадьбу</td>\n    </tr>\n    <tr>\n      <th>5</th>\n      <td>0</td>\n      <td>-926.185831</td>\n      <td>27</td>\n      <td>высшее</td>\n      <td>0</td>\n      <td>гражданский брак</td>\n      <td>1</td>\n      <td>M</td>\n      <td>компаньон</td>\n      <td>0</td>\n      <td>255763.565419</td>\n      <td>покупка жилья</td>\n    </tr>\n    <tr>\n      <th>6</th>\n      <td>0</td>\n      <td>-2879.202052</td>\n      <td>43</td>\n      <td>высшее</td>\n      <td>0</td>\n      <td>женат / замужем</td>\n      <td>0</td>\n      <td>F</td>\n      <td>компаньон</td>\n      <td>0</td>\n      <td>240525.971920</td>\n      <td>операции с жильем</td>\n    </tr>\n    <tr>\n      <th>7</th>\n      <td>0</td>\n      <td>-152.779569</td>\n      <td>50</td>\n      <td>СРЕДНЕЕ</td>\n      <td>1</td>\n      <td>женат / замужем</td>\n      <td>0</td>\n      <td>M</td>\n      <td>сотрудник</td>\n      <td>0</td>\n      <td>135823.934197</td>\n      <td>образование</td>\n    </tr>\n    <tr>\n      <th>8</th>\n      <td>2</td>\n      <td>-6929.865299</td>\n      <td>35</td>\n      <td>ВЫСШЕЕ</td>\n      <td>0</td>\n      <td>гражданский брак</td>\n      <td>1</td>\n      <td>F</td>\n      <td>сотрудник</td>\n      <td>0</td>\n      <td>95856.832424</td>\n      <td>на проведение свадьбы</td>\n    </tr>\n    <tr>\n      <th>9</th>\n      <td>0</td>\n      <td>-2188.756445</td>\n      <td>41</td>\n      <td>среднее</td>\n      <td>1</td>\n      <td>женат / замужем</td>\n      <td>0</td>\n      <td>M</td>\n      <td>сотрудник</td>\n      <td>0</td>\n      <td>144425.938277</td>\n      <td>покупка жилья для семьи</td>\n    </tr>\n    <tr>\n      <th>10</th>\n      <td>2</td>\n      <td>-4171.483647</td>\n      <td>36</td>\n      <td>высшее</td>\n      <td>0</td>\n      <td>женат / замужем</td>\n      <td>0</td>\n      <td>M</td>\n      <td>компаньон</td>\n      <td>0</td>\n      <td>113943.491460</td>\n      <td>покупка недвижимости</td>\n    </tr>\n    <tr>\n      <th>11</th>\n      <td>0</td>\n      <td>-792.701887</td>\n      <td>40</td>\n      <td>среднее</td>\n      <td>1</td>\n      <td>женат / замужем</td>\n      <td>0</td>\n      <td>F</td>\n      <td>сотрудник</td>\n      <td>0</td>\n      <td>77069.234271</td>\n      <td>покупка коммерческой недвижимости</td>\n    </tr>\n    <tr>\n      <th>12</th>\n      <td>0</td>\n      <td>NaN</td>\n      <td>65</td>\n      <td>среднее</td>\n      <td>1</td>\n      <td>гражданский брак</td>\n      <td>1</td>\n      <td>M</td>\n      <td>пенсионер</td>\n      <td>0</td>\n      <td>NaN</td>\n      <td>сыграть свадьбу</td>\n    </tr>\n    <tr>\n      <th>13</th>\n      <td>0</td>\n      <td>-1846.641941</td>\n      <td>54</td>\n      <td>неоконченное высшее</td>\n      <td>2</td>\n      <td>женат / замужем</td>\n      <td>0</td>\n      <td>F</td>\n      <td>сотрудник</td>\n      <td>0</td>\n      <td>130458.228857</td>\n      <td>приобретение автомобиля</td>\n    </tr>\n    <tr>\n      <th>14</th>\n      <td>0</td>\n      <td>-1844.956182</td>\n      <td>56</td>\n      <td>высшее</td>\n      <td>0</td>\n      <td>гражданский брак</td>\n      <td>1</td>\n      <td>F</td>\n      <td>компаньон</td>\n      <td>1</td>\n      <td>165127.911772</td>\n      <td>покупка жилой недвижимости</td>\n    </tr>\n    <tr>\n      <th>15</th>\n      <td>1</td>\n      <td>-972.364419</td>\n      <td>26</td>\n      <td>среднее</td>\n      <td>1</td>\n      <td>женат / замужем</td>\n      <td>0</td>\n      <td>F</td>\n      <td>сотрудник</td>\n      <td>0</td>\n      <td>116820.904450</td>\n      <td>строительство собственной недвижимости</td>\n    </tr>\n    <tr>\n      <th>16</th>\n      <td>0</td>\n      <td>-1719.934226</td>\n      <td>35</td>\n      <td>среднее</td>\n      <td>1</td>\n      <td>женат / замужем</td>\n      <td>0</td>\n      <td>F</td>\n      <td>сотрудник</td>\n      <td>0</td>\n      <td>289202.704229</td>\n      <td>недвижимость</td>\n    </tr>\n    <tr>\n      <th>17</th>\n      <td>0</td>\n      <td>-2369.999720</td>\n      <td>33</td>\n      <td>высшее</td>\n      <td>0</td>\n      <td>гражданский брак</td>\n      <td>1</td>\n      <td>M</td>\n      <td>сотрудник</td>\n      <td>0</td>\n      <td>90410.586745</td>\n      <td>строительство недвижимости</td>\n    </tr>\n    <tr>\n      <th>18</th>\n      <td>0</td>\n      <td>400281.136913</td>\n      <td>53</td>\n      <td>среднее</td>\n      <td>1</td>\n      <td>вдовец / вдова</td>\n      <td>2</td>\n      <td>F</td>\n      <td>пенсионер</td>\n      <td>0</td>\n      <td>56823.777243</td>\n      <td>на покупку подержанного автомобиля</td>\n    </tr>\n    <tr>\n      <th>19</th>\n      <td>0</td>\n      <td>-10038.818549</td>\n      <td>48</td>\n      <td>СРЕДНЕЕ</td>\n      <td>1</td>\n      <td>в разводе</td>\n      <td>3</td>\n      <td>F</td>\n      <td>сотрудник</td>\n      <td>0</td>\n      <td>242831.107982</td>\n      <td>на покупку своего автомобиля</td>\n    </tr>\n  </tbody>\n</table>\n</div>",
            "text/plain": "    children  days_employed  dob_years            education  education_id  \\\n0          1   -8437.673028         42               высшее             0   \n1          1   -4024.803754         36              среднее             1   \n2          0   -5623.422610         33              Среднее             1   \n3          3   -4124.747207         32              среднее             1   \n4          0  340266.072047         53              среднее             1   \n5          0    -926.185831         27               высшее             0   \n6          0   -2879.202052         43               высшее             0   \n7          0    -152.779569         50              СРЕДНЕЕ             1   \n8          2   -6929.865299         35               ВЫСШЕЕ             0   \n9          0   -2188.756445         41              среднее             1   \n10         2   -4171.483647         36               высшее             0   \n11         0    -792.701887         40              среднее             1   \n12         0            NaN         65              среднее             1   \n13         0   -1846.641941         54  неоконченное высшее             2   \n14         0   -1844.956182         56               высшее             0   \n15         1    -972.364419         26              среднее             1   \n16         0   -1719.934226         35              среднее             1   \n17         0   -2369.999720         33               высшее             0   \n18         0  400281.136913         53              среднее             1   \n19         0  -10038.818549         48              СРЕДНЕЕ             1   \n\n       family_status  family_status_id gender income_type  debt  \\\n0    женат / замужем                 0      F   сотрудник     0   \n1    женат / замужем                 0      F   сотрудник     0   \n2    женат / замужем                 0      M   сотрудник     0   \n3    женат / замужем                 0      M   сотрудник     0   \n4   гражданский брак                 1      F   пенсионер     0   \n5   гражданский брак                 1      M   компаньон     0   \n6    женат / замужем                 0      F   компаньон     0   \n7    женат / замужем                 0      M   сотрудник     0   \n8   гражданский брак                 1      F   сотрудник     0   \n9    женат / замужем                 0      M   сотрудник     0   \n10   женат / замужем                 0      M   компаньон     0   \n11   женат / замужем                 0      F   сотрудник     0   \n12  гражданский брак                 1      M   пенсионер     0   \n13   женат / замужем                 0      F   сотрудник     0   \n14  гражданский брак                 1      F   компаньон     1   \n15   женат / замужем                 0      F   сотрудник     0   \n16   женат / замужем                 0      F   сотрудник     0   \n17  гражданский брак                 1      M   сотрудник     0   \n18    вдовец / вдова                 2      F   пенсионер     0   \n19         в разводе                 3      F   сотрудник     0   \n\n     total_income                                 purpose  \n0   253875.639453                           покупка жилья  \n1   112080.014102                 приобретение автомобиля  \n2   145885.952297                           покупка жилья  \n3   267628.550329              дополнительное образование  \n4   158616.077870                         сыграть свадьбу  \n5   255763.565419                           покупка жилья  \n6   240525.971920                       операции с жильем  \n7   135823.934197                             образование  \n8    95856.832424                   на проведение свадьбы  \n9   144425.938277                 покупка жилья для семьи  \n10  113943.491460                    покупка недвижимости  \n11   77069.234271       покупка коммерческой недвижимости  \n12            NaN                         сыграть свадьбу  \n13  130458.228857                 приобретение автомобиля  \n14  165127.911772              покупка жилой недвижимости  \n15  116820.904450  строительство собственной недвижимости  \n16  289202.704229                            недвижимость  \n17   90410.586745              строительство недвижимости  \n18   56823.777243      на покупку подержанного автомобиля  \n19  242831.107982            на покупку своего автомобиля  "
          },
          "execution_count": 2,
          "metadata": {},
          "output_type": "execute_result"
        }
      ],
      "source": [
        "data.head(20)"
      ]
    },
    {
      "cell_type": "markdown",
      "id": "07433ac3",
      "metadata": {
        "deletable": false,
        "editable": false,
        "id": "07433ac3"
      },
      "source": [
        "**Задание 3. Выведите основную информацию о датафрейме с помощью метода `info()`.**"
      ]
    },
    {
      "cell_type": "code",
      "execution_count": null,
      "id": "71169ddd",
      "metadata": {
        "deletable": false,
        "id": "71169ddd",
        "outputId": "15376089-8dad-46c9-b520-c05248d43158",
        "trusted": false
      },
      "outputs": [
        {
          "name": "stdout",
          "output_type": "stream",
          "text": "<class 'pandas.core.frame.DataFrame'>\nRangeIndex: 21525 entries, 0 to 21524\nData columns (total 12 columns):\n #   Column            Non-Null Count  Dtype  \n---  ------            --------------  -----  \n 0   children          21525 non-null  int64  \n 1   days_employed     19351 non-null  float64\n 2   dob_years         21525 non-null  int64  \n 3   education         21525 non-null  object \n 4   education_id      21525 non-null  int64  \n 5   family_status     21525 non-null  object \n 6   family_status_id  21525 non-null  int64  \n 7   gender            21525 non-null  object \n 8   income_type       21525 non-null  object \n 9   debt              21525 non-null  int64  \n 10  total_income      19351 non-null  float64\n 11  purpose           21525 non-null  object \ndtypes: float64(2), int64(5), object(5)\nmemory usage: 2.0+ MB\n"
        }
      ],
      "source": [
        "data.info()"
      ]
    },
    {
      "cell_type": "markdown",
      "id": "ab6ea0e0",
      "metadata": {
        "deletable": false,
        "editable": false,
        "id": "ab6ea0e0"
      },
      "source": [
        "## Предобработка данных"
      ]
    },
    {
      "cell_type": "markdown",
      "id": "e02024cb",
      "metadata": {
        "deletable": false,
        "editable": false,
        "id": "e02024cb"
      },
      "source": [
        "### Удаление пропусков"
      ]
    },
    {
      "cell_type": "markdown",
      "id": "35a3170e",
      "metadata": {
        "deletable": false,
        "editable": false,
        "id": "35a3170e"
      },
      "source": [
        "**Задание 4. Выведите количество пропущенных значений для каждого столбца. Используйте комбинацию двух методов.**"
      ]
    },
    {
      "cell_type": "code",
      "execution_count": null,
      "id": "3db20de2",
      "metadata": {
        "deletable": false,
        "id": "3db20de2",
        "outputId": "81f4d817-781c-465c-ed15-91ce4446810d",
        "trusted": false
      },
      "outputs": [
        {
          "data": {
            "text/plain": "children               0\ndays_employed       2174\ndob_years              0\neducation              0\neducation_id           0\nfamily_status          0\nfamily_status_id       0\ngender                 0\nincome_type            0\ndebt                   0\ntotal_income        2174\npurpose                0\ndtype: int64"
          },
          "execution_count": 4,
          "metadata": {},
          "output_type": "execute_result"
        }
      ],
      "source": [
        "data.isna().sum()"
      ]
    },
    {
      "cell_type": "markdown",
      "id": "390dbbb8",
      "metadata": {
        "deletable": false,
        "editable": false,
        "id": "390dbbb8"
      },
      "source": [
        "**Задание 5. В двух столбцах есть пропущенные значения. Один из них — `days_employed`. Пропуски в этом столбце вы обработаете на следующем этапе. Другой столбец с пропущенными значениями — `total_income` — хранит данные о доходах. На сумму дохода сильнее всего влияет тип занятости, поэтому заполнить пропуски в этом столбце нужно медианным значением по каждому типу из столбца `income_type`. Например, у человека с типом занятости `сотрудник` пропуск в столбце `total_income` должен быть заполнен медианным доходом среди всех записей с тем же типом.**"
      ]
    },
    {
      "cell_type": "code",
      "execution_count": null,
      "id": "ce9776b7",
      "metadata": {
        "deletable": false,
        "id": "ce9776b7",
        "trusted": false
      },
      "outputs": [],
      "source": [
        "for t in data['income_type'].unique():\n",
        "    data.loc[(data['income_type'] == t) & (data['total_income'].isna()), 'total_income'] = \\\n",
        "    data.loc[(data['income_type'] == t), 'total_income'].median()"
      ]
    },
    {
      "cell_type": "markdown",
      "id": "c30c5f9e",
      "metadata": {
        "deletable": false,
        "editable": false,
        "id": "c30c5f9e"
      },
      "source": [
        "### Обработка аномальных значений"
      ]
    },
    {
      "cell_type": "markdown",
      "id": "780fce29",
      "metadata": {
        "deletable": false,
        "editable": false,
        "id": "780fce29"
      },
      "source": [
        "**Задание 6. В данных могут встречаться артефакты (аномалии) — значения, которые не отражают действительность и появились по какой-то ошибке. таким артефактом будет отрицательное количество дней трудового стажа в столбце `days_employed`. Для реальных данных это нормально. Обработайте значения в этом столбце: замените все отрицательные значения положительными с помощью метода `abs()`.**"
      ]
    },
    {
      "cell_type": "code",
      "execution_count": null,
      "id": "ad41c2e0",
      "metadata": {
        "deletable": false,
        "id": "ad41c2e0",
        "trusted": false
      },
      "outputs": [],
      "source": [
        "data['days_employed'] = data['days_employed'].abs()"
      ]
    },
    {
      "cell_type": "markdown",
      "id": "23b5dfca",
      "metadata": {
        "deletable": false,
        "editable": false,
        "id": "23b5dfca"
      },
      "source": [
        "**Задание 7. Для каждого типа занятости выведите медианное значение трудового стажа `days_employed` в днях.**"
      ]
    },
    {
      "cell_type": "code",
      "execution_count": null,
      "id": "3f8538c0",
      "metadata": {
        "deletable": false,
        "id": "3f8538c0",
        "outputId": "801ef80e-522b-4668-f34e-565af7432bcf",
        "trusted": false
      },
      "outputs": [
        {
          "data": {
            "text/plain": "income_type\nбезработный        366413.652744\nв декрете            3296.759962\nгосслужащий          2689.368353\nкомпаньон            1547.382223\nпенсионер          365213.306266\nпредприниматель       520.848083\nсотрудник            1574.202821\nстудент               578.751554\nName: days_employed, dtype: float64"
          },
          "execution_count": 7,
          "metadata": {},
          "output_type": "execute_result"
        }
      ],
      "source": [
        "data.groupby('income_type')['days_employed'].agg('median')"
      ]
    },
    {
      "cell_type": "markdown",
      "id": "56b57f3c",
      "metadata": {
        "deletable": false,
        "editable": false,
        "id": "56b57f3c"
      },
      "source": [
        "У двух типов (безработные и пенсионеры) получатся аномально большие значения. Исправить такие значения сложно, поэтому оставьте их как есть. Тем более этот столбец не понадобится вам для исследования."
      ]
    },
    {
      "cell_type": "markdown",
      "id": "e2984664",
      "metadata": {
        "deletable": false,
        "editable": false,
        "id": "e2984664"
      },
      "source": [
        "**Задание 8. Выведите перечень уникальных значений столбца `children`.**"
      ]
    },
    {
      "cell_type": "code",
      "execution_count": null,
      "id": "62146ccd",
      "metadata": {
        "deletable": false,
        "id": "62146ccd",
        "outputId": "6975b15c-7f95-4697-d16d-a0c79b657b03",
        "trusted": false
      },
      "outputs": [
        {
          "data": {
            "text/plain": "array([ 1,  0,  3,  2, -1,  4, 20,  5])"
          },
          "execution_count": 8,
          "metadata": {},
          "output_type": "execute_result"
        }
      ],
      "source": [
        "data['children'].unique()"
      ]
    },
    {
      "cell_type": "markdown",
      "id": "4743d875",
      "metadata": {
        "deletable": false,
        "editable": false,
        "id": "4743d875"
      },
      "source": [
        "**Задание 9. В столбце `children` есть два аномальных значения. Удалите строки, в которых встречаются такие аномальные значения из датафрейма `data`.**"
      ]
    },
    {
      "cell_type": "code",
      "execution_count": null,
      "id": "2925d308",
      "metadata": {
        "deletable": false,
        "id": "2925d308",
        "trusted": false
      },
      "outputs": [],
      "source": [
        "data = data[(data['children'] != -1) & (data['children'] != 20)]"
      ]
    },
    {
      "cell_type": "markdown",
      "id": "4ba5e6a8",
      "metadata": {
        "deletable": false,
        "editable": false,
        "id": "4ba5e6a8"
      },
      "source": [
        "**Задание 10. Ещё раз выведите перечень уникальных значений столбца `children`, чтобы убедиться, что артефакты удалены.**"
      ]
    },
    {
      "cell_type": "code",
      "execution_count": null,
      "id": "f59a4c43",
      "metadata": {
        "deletable": false,
        "id": "f59a4c43",
        "outputId": "b2097101-d49d-44d9-901b-32a65c9463d1",
        "trusted": false
      },
      "outputs": [
        {
          "data": {
            "text/plain": "array([1, 0, 3, 2, 4, 5])"
          },
          "execution_count": 10,
          "metadata": {},
          "output_type": "execute_result"
        }
      ],
      "source": [
        "data['children'].unique()"
      ]
    },
    {
      "cell_type": "markdown",
      "id": "df1e987c",
      "metadata": {
        "deletable": false,
        "editable": false,
        "id": "df1e987c"
      },
      "source": [
        "### Удаление пропусков (продолжение)"
      ]
    },
    {
      "cell_type": "markdown",
      "id": "488d5b55",
      "metadata": {
        "deletable": false,
        "editable": false,
        "id": "488d5b55"
      },
      "source": [
        "**Задание 11. Заполните пропуски в столбце `days_employed` медианными значениями по каждого типа занятости `income_type`.**"
      ]
    },
    {
      "cell_type": "code",
      "execution_count": null,
      "id": "9d3b667d",
      "metadata": {
        "deletable": false,
        "id": "9d3b667d",
        "trusted": false
      },
      "outputs": [],
      "source": [
        "for t in data['income_type'].unique():\n",
        "    data.loc[(data['income_type'] == t) & (data['days_employed'].isna()), 'days_employed'] = \\\n",
        "    data.loc[(data['income_type'] == t), 'days_employed'].median()"
      ]
    },
    {
      "cell_type": "markdown",
      "id": "c7ee06f7",
      "metadata": {
        "deletable": false,
        "editable": false,
        "id": "c7ee06f7"
      },
      "source": [
        "**Задание 12. Убедитесь, что все пропуски заполнены. Проверьте себя и ещё раз выведите количество пропущенных значений для каждого столбца с помощью двух методов.**"
      ]
    },
    {
      "cell_type": "code",
      "execution_count": null,
      "id": "a20fb8ff",
      "metadata": {
        "deletable": false,
        "id": "a20fb8ff",
        "outputId": "8da1e4e1-358e-4e87-98c9-f261bce0a7b2",
        "trusted": false
      },
      "outputs": [
        {
          "data": {
            "text/plain": "children            0\ndays_employed       0\ndob_years           0\neducation           0\neducation_id        0\nfamily_status       0\nfamily_status_id    0\ngender              0\nincome_type         0\ndebt                0\ntotal_income        0\npurpose             0\ndtype: int64"
          },
          "execution_count": 12,
          "metadata": {},
          "output_type": "execute_result"
        }
      ],
      "source": [
        "data.isna().sum()"
      ]
    },
    {
      "cell_type": "markdown",
      "id": "8cbef9fc",
      "metadata": {
        "deletable": false,
        "editable": false,
        "id": "8cbef9fc"
      },
      "source": [
        "### Изменение типов данных"
      ]
    },
    {
      "cell_type": "markdown",
      "id": "254cda6d",
      "metadata": {
        "deletable": false,
        "editable": false,
        "id": "254cda6d"
      },
      "source": [
        "**Задание 13. Замените вещественный тип данных в столбце `total_income` на целочисленный с помощью метода `astype()`.**"
      ]
    },
    {
      "cell_type": "code",
      "execution_count": null,
      "id": "a3a81793",
      "metadata": {
        "deletable": false,
        "id": "a3a81793",
        "trusted": false
      },
      "outputs": [],
      "source": [
        "data['total_income'] = data['total_income'].astype(int)"
      ]
    },
    {
      "cell_type": "markdown",
      "id": "b2c8ebec",
      "metadata": {
        "deletable": false,
        "editable": false,
        "id": "b2c8ebec"
      },
      "source": [
        "### Обработка дубликатов"
      ]
    },
    {
      "cell_type": "markdown",
      "id": "bf1e6e82",
      "metadata": {
        "deletable": false,
        "editable": false,
        "id": "bf1e6e82"
      },
      "source": [
        "**Задание 14. Обработайте неявные дубликаты в столбце `education`. В этом столбце есть одни и те же значения, но записанные по-разному: с использованием заглавных и строчных букв. Приведите их к нижнему регистру. Проверьте остальные столбцы.**"
      ]
    },
    {
      "cell_type": "code",
      "execution_count": null,
      "id": "6d40a797",
      "metadata": {
        "deletable": false,
        "trusted": false,
        "id": "6d40a797"
      },
      "outputs": [],
      "source": [
        "data['education'] = data['education'].str.lower()"
      ]
    },
    {
      "cell_type": "markdown",
      "id": "e8f82756",
      "metadata": {
        "deletable": false,
        "editable": false,
        "id": "e8f82756"
      },
      "source": [
        "**Задание 15. Выведите на экран количество строк-дубликатов в данных. Если такие строки присутствуют, удалите их.**"
      ]
    },
    {
      "cell_type": "code",
      "execution_count": null,
      "id": "7b0ace74",
      "metadata": {
        "deletable": false,
        "id": "7b0ace74",
        "outputId": "9684deba-1934-42d1-99e1-cda61740f822",
        "trusted": false
      },
      "outputs": [
        {
          "data": {
            "text/plain": "71"
          },
          "execution_count": 15,
          "metadata": {},
          "output_type": "execute_result"
        }
      ],
      "source": [
        "data.duplicated().sum()"
      ]
    },
    {
      "cell_type": "code",
      "execution_count": null,
      "id": "0a847273",
      "metadata": {
        "deletable": false,
        "id": "0a847273",
        "trusted": false
      },
      "outputs": [],
      "source": [
        "data = data.drop_duplicates()"
      ]
    },
    {
      "cell_type": "markdown",
      "id": "e642d7ee",
      "metadata": {
        "deletable": false,
        "editable": false,
        "id": "e642d7ee"
      },
      "source": [
        "### Категоризация данных"
      ]
    },
    {
      "cell_type": "markdown",
      "id": "b8e79806",
      "metadata": {
        "deletable": false,
        "editable": false,
        "id": "b8e79806"
      },
      "source": [
        "**Задание 16. На основании диапазонов, указанных ниже, создайте в датафрейме `data` столбец `total_income_category` с категориями:**\n",
        "\n",
        "- 0–30000 — `'E'`;\n",
        "- 30001–50000 — `'D'`;\n",
        "- 50001–200000 — `'C'`;\n",
        "- 200001–1000000 — `'B'`;\n",
        "- 1000001 и выше — `'A'`.\n",
        "\n",
        "\n",
        "**Например, кредитополучателю с доходом 25000 нужно назначить категорию `'E'`, а клиенту, получающему 235000, — `'B'`. Используйте собственную функцию с именем `categorize_income()` и метод `apply()`.**"
      ]
    },
    {
      "cell_type": "code",
      "execution_count": null,
      "id": "38376049",
      "metadata": {
        "deletable": false,
        "id": "38376049",
        "trusted": false
      },
      "outputs": [],
      "source": [
        "def categorize_income(income):\n",
        "    try:\n",
        "        if 0 <= income <= 30000:\n",
        "            return 'E'\n",
        "        elif 30001 <= income <= 50000:\n",
        "            return 'D'\n",
        "        elif 50001 <= income <= 200000:\n",
        "            return 'C'\n",
        "        elif 200001 <= income <= 1000000:\n",
        "            return 'B'\n",
        "        elif income >= 1000001:\n",
        "            return 'A'\n",
        "    except:\n",
        "        pass"
      ]
    },
    {
      "cell_type": "code",
      "execution_count": null,
      "id": "bf6598cc",
      "metadata": {
        "deletable": false,
        "id": "bf6598cc",
        "trusted": false
      },
      "outputs": [],
      "source": [
        "data['total_income_category'] = data['total_income'].apply(categorize_income)"
      ]
    },
    {
      "cell_type": "markdown",
      "id": "fc5e09f0",
      "metadata": {
        "deletable": false,
        "editable": false,
        "id": "fc5e09f0"
      },
      "source": [
        "**Задание 17. Выведите на экран перечень уникальных целей взятия кредита из столбца `purpose`.**"
      ]
    },
    {
      "cell_type": "code",
      "execution_count": null,
      "id": "9d2ed614",
      "metadata": {
        "deletable": false,
        "id": "9d2ed614",
        "outputId": "673c12d9-7d7e-4ae0-9812-c622c89dd244",
        "trusted": false
      },
      "outputs": [
        {
          "data": {
            "text/plain": "array(['покупка жилья', 'приобретение автомобиля',\n       'дополнительное образование', 'сыграть свадьбу',\n       'операции с жильем', 'образование', 'на проведение свадьбы',\n       'покупка жилья для семьи', 'покупка недвижимости',\n       'покупка коммерческой недвижимости', 'покупка жилой недвижимости',\n       'строительство собственной недвижимости', 'недвижимость',\n       'строительство недвижимости', 'на покупку подержанного автомобиля',\n       'на покупку своего автомобиля',\n       'операции с коммерческой недвижимостью',\n       'строительство жилой недвижимости', 'жилье',\n       'операции со своей недвижимостью', 'автомобили',\n       'заняться образованием', 'сделка с подержанным автомобилем',\n       'получение образования', 'автомобиль', 'свадьба',\n       'получение дополнительного образования', 'покупка своего жилья',\n       'операции с недвижимостью', 'получение высшего образования',\n       'свой автомобиль', 'сделка с автомобилем',\n       'профильное образование', 'высшее образование',\n       'покупка жилья для сдачи', 'на покупку автомобиля', 'ремонт жилью',\n       'заняться высшим образованием'], dtype=object)"
          },
          "execution_count": 19,
          "metadata": {},
          "output_type": "execute_result"
        }
      ],
      "source": [
        "data['purpose'].unique()"
      ]
    },
    {
      "cell_type": "markdown",
      "id": "0faf110f",
      "metadata": {
        "deletable": false,
        "editable": false,
        "id": "0faf110f"
      },
      "source": [
        "**Задание 18. Создайте функцию, которая на основании данных из столбца `purpose` сформирует новый столбец `purpose_category`, в который войдут следующие категории:**\n",
        "\n",
        "- `'операции с автомобилем'`,\n",
        "- `'операции с недвижимостью'`,\n",
        "- `'проведение свадьбы'`,\n",
        "- `'получение образования'`.\n",
        "\n",
        "**Например, если в столбце `purpose` находится подстрока `'на покупку автомобиля'`, то в столбце `purpose_category` должна появиться строка `'операции с автомобилем'`.**\n",
        "\n",
        "**Используйте собственную функцию с именем `categorize_purpose()` и метод `apply()`. Изучите данные в столбце `purpose` и определите, какие подстроки помогут вам правильно определить категорию.**"
      ]
    },
    {
      "cell_type": "code",
      "execution_count": null,
      "id": "076a857d",
      "metadata": {
        "deletable": false,
        "id": "076a857d",
        "trusted": false
      },
      "outputs": [],
      "source": [
        "def categorize_purpose(row):\n",
        "    try:\n",
        "        if 'автом' in row:\n",
        "            return 'операции с автомобилем'\n",
        "        elif 'жил' in row or 'недвиж' in row:\n",
        "            return 'операции с недвижимостью'\n",
        "        elif 'свад' in row:\n",
        "            return 'проведение свадьбы'\n",
        "        elif 'образов' in row:\n",
        "            return 'получение образования'\n",
        "    except:\n",
        "        return 'нет категории'"
      ]
    },
    {
      "cell_type": "code",
      "execution_count": null,
      "id": "373c8b9e",
      "metadata": {
        "deletable": false,
        "id": "373c8b9e",
        "trusted": false
      },
      "outputs": [],
      "source": [
        "data['purpose_category'] = data['purpose'].apply(categorize_purpose)"
      ]
    },
    {
      "cell_type": "markdown",
      "id": "e3e9ff82",
      "metadata": {
        "deletable": false,
        "editable": false,
        "id": "e3e9ff82"
      },
      "source": [
        "### Шаг 3. Исследуйте данные и ответьте на вопросы"
      ]
    },
    {
      "cell_type": "markdown",
      "id": "cde8bae7",
      "metadata": {
        "deletable": false,
        "editable": false,
        "id": "cde8bae7"
      },
      "source": [
        "#### 3.1 Есть ли зависимость между количеством детей и возвратом кредита в срок?"
      ]
    },
    {
      "cell_type": "code",
      "execution_count": null,
      "id": "8ed3cc04",
      "metadata": {
        "deletable": false,
        "id": "8ed3cc04",
        "scrolled": true,
        "trusted": false,
        "outputId": "9bb543e9-c30c-4118-d52f-bcd5d67c1acb"
      },
      "outputs": [
        {
          "data": {
            "text/html": "<div>\n<style scoped>\n    .dataframe tbody tr th:only-of-type {\n        vertical-align: middle;\n    }\n\n    .dataframe tbody tr th {\n        vertical-align: top;\n    }\n\n    .dataframe thead tr th {\n        text-align: left;\n    }\n\n    .dataframe thead tr:last-of-type th {\n        text-align: right;\n    }\n</style>\n<table border=\"1\" class=\"dataframe\">\n  <thead>\n    <tr>\n      <th></th>\n      <th colspan=\"2\" halign=\"left\">debt</th>\n      <th>correlation</th>\n    </tr>\n    <tr>\n      <th></th>\n      <th>count</th>\n      <th>sum</th>\n      <th></th>\n    </tr>\n    <tr>\n      <th>children</th>\n      <th></th>\n      <th></th>\n      <th></th>\n    </tr>\n  </thead>\n  <tbody>\n    <tr>\n      <th>4</th>\n      <td>41</td>\n      <td>4</td>\n      <td>0.098</td>\n    </tr>\n    <tr>\n      <th>2</th>\n      <td>2052</td>\n      <td>194</td>\n      <td>0.095</td>\n    </tr>\n    <tr>\n      <th>1</th>\n      <td>4808</td>\n      <td>444</td>\n      <td>0.092</td>\n    </tr>\n    <tr>\n      <th>3</th>\n      <td>330</td>\n      <td>27</td>\n      <td>0.082</td>\n    </tr>\n    <tr>\n      <th>0</th>\n      <td>14091</td>\n      <td>1063</td>\n      <td>0.075</td>\n    </tr>\n    <tr>\n      <th>5</th>\n      <td>9</td>\n      <td>0</td>\n      <td>0.000</td>\n    </tr>\n  </tbody>\n</table>\n</div>",
            "text/plain": "           debt       correlation\n          count   sum            \nchildren                         \n4            41     4       0.098\n2          2052   194       0.095\n1          4808   444       0.092\n3           330    27       0.082\n0         14091  1063       0.075\n5             9     0       0.000"
          },
          "execution_count": 22,
          "metadata": {},
          "output_type": "execute_result"
        }
      ],
      "source": [
        "dependence = data.groupby('children').agg({'debt': ['count', 'sum']})\n",
        "dependence['correlation'] = round(dependence['debt', 'sum'] / dependence['debt', 'count'], 3)\n",
        "dependence.sort_values(by='correlation', ascending=False)\n",
        "\n",
        "\n"
      ]
    },
    {
      "cell_type": "code",
      "execution_count": null,
      "id": "cbf3d48d",
      "metadata": {
        "trusted": false,
        "id": "cbf3d48d",
        "outputId": "9ff740ac-71f0-43c8-cf5c-e479467a2688"
      },
      "outputs": [
        {
          "data": {
            "text/plain": "<AxesSubplot:xlabel='children', ylabel='correlation'>"
          },
          "execution_count": 23,
          "metadata": {},
          "output_type": "execute_result"
        },
        {
          "data": {
            "image/png": "[encoded data removed]",
            "text/plain": "<Figure size 432x288 with 1 Axes>"
          },
          "metadata": {},
          "output_type": "display_data"
        }
      ],
      "source": [
        "sns.set_style('darkgrid')\n",
        "sns.lineplot(data=dependence, x='children', y='correlation')"
      ]
    },
    {
      "cell_type": "markdown",
      "id": "38ada849",
      "metadata": {
        "deletable": false,
        "id": "38ada849"
      },
      "source": [
        "**Вывод:** Считаю, что клиентов с количеством детей 5, не стоит учитывать в исследовании, т.к. данных слишком мало, хоть и сама по себе категория не может быть на равне с другими, по причине того, что не часто втретишь человека с 5 детьми, я бы на показатели по этой категории не ориентировался. Если отбросить эту категорию клиентов, то некоторая закономерность в количестве детей и возвратности кредита, всё же наблюдается, хоть и небольшая. Люди с 4 детьми имеют наибольший процент невозвратности кредитов(здесь сразу вспоминается категория клиентов с 5 детьми, при наличии бОльших данных, возможно, платёжеспособность этой категории также упала), что обусловлено, скорее всего, высокой финансовой нагрузкой. У людей, которых нет детей, наибольшая возвратность кредитов, по причине их большей платёжеспособности. 2-3 ребёнка, показатели примерно равны, не много выбивается категория с 3 детьми.    "
      ]
    },
    {
      "cell_type": "markdown",
      "id": "fbe5726e",
      "metadata": {
        "deletable": false,
        "editable": false,
        "id": "fbe5726e"
      },
      "source": [
        "#### 3.2 Есть ли зависимость между семейным положением и возвратом кредита в срок?"
      ]
    },
    {
      "cell_type": "code",
      "execution_count": null,
      "id": "9285f336",
      "metadata": {
        "deletable": false,
        "id": "9285f336",
        "trusted": false,
        "outputId": "da3e08be-7716-4d7f-e5e8-08074e6b3167"
      },
      "outputs": [
        {
          "data": {
            "text/html": "<div>\n<style scoped>\n    .dataframe tbody tr th:only-of-type {\n        vertical-align: middle;\n    }\n\n    .dataframe tbody tr th {\n        vertical-align: top;\n    }\n\n    .dataframe thead tr th {\n        text-align: left;\n    }\n\n    .dataframe thead tr:last-of-type th {\n        text-align: right;\n    }\n</style>\n<table border=\"1\" class=\"dataframe\">\n  <thead>\n    <tr>\n      <th></th>\n      <th colspan=\"2\" halign=\"left\">debt</th>\n      <th>correlation</th>\n    </tr>\n    <tr>\n      <th></th>\n      <th>count</th>\n      <th>sum</th>\n      <th></th>\n    </tr>\n    <tr>\n      <th>family_status</th>\n      <th></th>\n      <th></th>\n      <th></th>\n    </tr>\n  </thead>\n  <tbody>\n    <tr>\n      <th>Не женат / не замужем</th>\n      <td>2796</td>\n      <td>273</td>\n      <td>0.098</td>\n    </tr>\n    <tr>\n      <th>гражданский брак</th>\n      <td>4134</td>\n      <td>385</td>\n      <td>0.093</td>\n    </tr>\n    <tr>\n      <th>женат / замужем</th>\n      <td>12261</td>\n      <td>927</td>\n      <td>0.076</td>\n    </tr>\n    <tr>\n      <th>в разводе</th>\n      <td>1189</td>\n      <td>84</td>\n      <td>0.071</td>\n    </tr>\n    <tr>\n      <th>вдовец / вдова</th>\n      <td>951</td>\n      <td>63</td>\n      <td>0.066</td>\n    </tr>\n  </tbody>\n</table>\n</div>",
            "text/plain": "                        debt      correlation\n                       count  sum            \nfamily_status                                \nНе женат / не замужем   2796  273       0.098\nгражданский брак        4134  385       0.093\nженат / замужем        12261  927       0.076\nв разводе               1189   84       0.071\nвдовец / вдова           951   63       0.066"
          },
          "execution_count": 24,
          "metadata": {},
          "output_type": "execute_result"
        }
      ],
      "source": [
        "dependence = data.groupby('family_status').agg({'debt': ['count', 'sum']})\n",
        "dependence['correlation'] = round(dependence['debt', 'sum'] / dependence['debt', 'count'], 3)\n",
        "dependence.sort_values(by='correlation', ascending=False)\n",
        "\n"
      ]
    },
    {
      "cell_type": "code",
      "execution_count": null,
      "id": "93e172f5",
      "metadata": {
        "trusted": false,
        "id": "93e172f5",
        "outputId": "7ab3973e-455b-44bf-d33e-5728305c485c"
      },
      "outputs": [
        {
          "data": {
            "text/plain": "<AxesSubplot:xlabel='family_status', ylabel='correlation'>"
          },
          "execution_count": 25,
          "metadata": {},
          "output_type": "execute_result"
        },
        {
          "data": {
            "image/png": "[encoded data removed]",
            "text/plain": "<Figure size 864x576 with 1 Axes>"
          },
          "metadata": {},
          "output_type": "display_data"
        }
      ],
      "source": [
        "sns.set(rc={'figure.figsize':(12,8)})\n",
        "sns.set_style('darkgrid')\n",
        "sns.lineplot(data=dependence, x='family_status', y='correlation')"
      ]
    },
    {
      "cell_type": "markdown",
      "id": "94b733af",
      "metadata": {
        "deletable": false,
        "id": "94b733af"
      },
      "source": [
        "**Вывод:** Наибольшая возвратность кредитов в категории клиентов не состоящих в официальном браке, но ранее имевших такой статус. Вероятно это связано с тем, что это более взрослые и состоятельные люди. Люди находящиеся в официальном браке, имеют средний показатель среди прочих, нелья однозначно сказать, это у этой категории хороший или плохой показатель, скорее всего не очень высокий показатель возвратности связан с тем, что люди данного статуса уже имеют детей, что создаёт дополнительные расходы, возможно у них есть другие кредитные обязательства, вполне вероятно ипотека и по причине этого, по другим кредитным продуктам допускаются просрочки. Самые низкие показатели у людей в официально не зарегистрированном браке и не состоящих в нём вовсе, возможно это относительно молодые люди, которые вероятно не имеют стабильного дохода. "
      ]
    },
    {
      "cell_type": "markdown",
      "id": "9cc545b9",
      "metadata": {
        "deletable": false,
        "editable": false,
        "id": "9cc545b9"
      },
      "source": [
        "#### 3.3 Есть ли зависимость между уровнем дохода и возвратом кредита в срок?"
      ]
    },
    {
      "cell_type": "code",
      "execution_count": null,
      "id": "5b24acf7",
      "metadata": {
        "deletable": false,
        "id": "5b24acf7",
        "trusted": false,
        "outputId": "9835f67b-c997-41f5-858a-775f448f4f04"
      },
      "outputs": [
        {
          "data": {
            "text/html": "<div>\n<style scoped>\n    .dataframe tbody tr th:only-of-type {\n        vertical-align: middle;\n    }\n\n    .dataframe tbody tr th {\n        vertical-align: top;\n    }\n\n    .dataframe thead tr th {\n        text-align: left;\n    }\n\n    .dataframe thead tr:last-of-type th {\n        text-align: right;\n    }\n</style>\n<table border=\"1\" class=\"dataframe\">\n  <thead>\n    <tr>\n      <th></th>\n      <th colspan=\"2\" halign=\"left\">debt</th>\n      <th>correlation</th>\n    </tr>\n    <tr>\n      <th></th>\n      <th>count</th>\n      <th>sum</th>\n      <th></th>\n    </tr>\n    <tr>\n      <th>total_income_category</th>\n      <th></th>\n      <th></th>\n      <th></th>\n    </tr>\n  </thead>\n  <tbody>\n    <tr>\n      <th>E</th>\n      <td>22</td>\n      <td>2</td>\n      <td>0.091</td>\n    </tr>\n    <tr>\n      <th>C</th>\n      <td>15921</td>\n      <td>1353</td>\n      <td>0.085</td>\n    </tr>\n    <tr>\n      <th>A</th>\n      <td>25</td>\n      <td>2</td>\n      <td>0.080</td>\n    </tr>\n    <tr>\n      <th>B</th>\n      <td>5014</td>\n      <td>354</td>\n      <td>0.071</td>\n    </tr>\n    <tr>\n      <th>D</th>\n      <td>349</td>\n      <td>21</td>\n      <td>0.060</td>\n    </tr>\n  </tbody>\n</table>\n</div>",
            "text/plain": "                        debt       correlation\n                       count   sum            \ntotal_income_category                         \nE                         22     2       0.091\nC                      15921  1353       0.085\nA                         25     2       0.080\nB                       5014   354       0.071\nD                        349    21       0.060"
          },
          "execution_count": 28,
          "metadata": {},
          "output_type": "execute_result"
        }
      ],
      "source": [
        "dependence = data.groupby('total_income_category').agg({'debt': ['count', 'sum']})\n",
        "dependence['correlation'] = round(dependence['debt', 'sum'] / dependence['debt', 'count'], 3)\n",
        "dependence.sort_values(by='correlation', ascending=False)"
      ]
    },
    {
      "cell_type": "code",
      "execution_count": null,
      "id": "b924d0df",
      "metadata": {
        "trusted": false,
        "id": "b924d0df",
        "outputId": "dacbe10f-19ad-495f-8bc3-f238984fc5c7"
      },
      "outputs": [
        {
          "data": {
            "text/plain": "<AxesSubplot:xlabel='total_income_category', ylabel='correlation'>"
          },
          "execution_count": 30,
          "metadata": {},
          "output_type": "execute_result"
        },
        {
          "data": {
            "image/png": "[encoded data removed]",
            "text/plain": "<Figure size 864x576 with 1 Axes>"
          },
          "metadata": {},
          "output_type": "display_data"
        }
      ],
      "source": [
        "sns.set_style('darkgrid')\n",
        "sns.lineplot(data=dependence, x='total_income_category', y='correlation')"
      ]
    },
    {
      "cell_type": "markdown",
      "id": "e0f360ce",
      "metadata": {
        "deletable": false,
        "id": "e0f360ce"
      },
      "source": [
        "**Вывод:** Наибольшая вероятность возвратности кредита у категории D, скорее всего к данной категории относятся люди состоящие в браке, вероятно имеющие детей. Категории B, A, C имеют доход выше среднего, возможно это предприниматели, которые берут денежные средства для расчёта с контрагентами, развитие бизнеса и по причине возможных проблем с окупаемостью, иногда допускают просрочки. И конечно категория E имеет самую высокую вероятность не вернуть кредит в срок, что полностью обоснованно, т.к. данная категория имеет самый низкий уровень дохода. "
      ]
    },
    {
      "cell_type": "markdown",
      "id": "aa2aae1e",
      "metadata": {
        "deletable": false,
        "editable": false,
        "id": "aa2aae1e"
      },
      "source": [
        "#### 3.4 Как разные цели кредита влияют на его возврат в срок?"
      ]
    },
    {
      "cell_type": "code",
      "execution_count": null,
      "id": "5f9335ab",
      "metadata": {
        "deletable": false,
        "id": "5f9335ab",
        "trusted": false,
        "outputId": "a72d3bd2-db23-47fb-fa10-2bdd1da105a6"
      },
      "outputs": [
        {
          "data": {
            "text/html": "<div>\n<style scoped>\n    .dataframe tbody tr th:only-of-type {\n        vertical-align: middle;\n    }\n\n    .dataframe tbody tr th {\n        vertical-align: top;\n    }\n\n    .dataframe thead tr th {\n        text-align: left;\n    }\n\n    .dataframe thead tr:last-of-type th {\n        text-align: right;\n    }\n</style>\n<table border=\"1\" class=\"dataframe\">\n  <thead>\n    <tr>\n      <th></th>\n      <th colspan=\"2\" halign=\"left\">debt</th>\n      <th>correlation</th>\n    </tr>\n    <tr>\n      <th></th>\n      <th>count</th>\n      <th>sum</th>\n      <th></th>\n    </tr>\n    <tr>\n      <th>purpose_category</th>\n      <th></th>\n      <th></th>\n      <th></th>\n    </tr>\n  </thead>\n  <tbody>\n    <tr>\n      <th>операции с автомобилем</th>\n      <td>4279</td>\n      <td>400</td>\n      <td>0.093</td>\n    </tr>\n    <tr>\n      <th>получение образования</th>\n      <td>3988</td>\n      <td>369</td>\n      <td>0.093</td>\n    </tr>\n    <tr>\n      <th>проведение свадьбы</th>\n      <td>2313</td>\n      <td>183</td>\n      <td>0.079</td>\n    </tr>\n    <tr>\n      <th>операции с недвижимостью</th>\n      <td>10751</td>\n      <td>780</td>\n      <td>0.073</td>\n    </tr>\n  </tbody>\n</table>\n</div>",
            "text/plain": "                           debt      correlation\n                          count  sum            \npurpose_category                                \nоперации с автомобилем     4279  400       0.093\nполучение образования      3988  369       0.093\nпроведение свадьбы         2313  183       0.079\nоперации с недвижимостью  10751  780       0.073"
          },
          "execution_count": 31,
          "metadata": {},
          "output_type": "execute_result"
        }
      ],
      "source": [
        "dependence = data.groupby('purpose_category').agg({'debt': ['count', 'sum']})\n",
        "dependence['correlation'] = round(dependence['debt', 'sum'] / dependence['debt', 'count'], 3)\n",
        "dependence.sort_values(by='correlation', ascending=False)"
      ]
    },
    {
      "cell_type": "code",
      "execution_count": null,
      "id": "0df97da8",
      "metadata": {
        "trusted": false,
        "id": "0df97da8",
        "outputId": "d99fc3f8-1c65-47f0-d776-4d4f19e32028"
      },
      "outputs": [
        {
          "data": {
            "text/plain": "<AxesSubplot:xlabel='purpose_category', ylabel='correlation'>"
          },
          "execution_count": 33,
          "metadata": {},
          "output_type": "execute_result"
        },
        {
          "data": {
            "image/png": "[encoded data removed]",
            "text/plain": "<Figure size 864x576 with 1 Axes>"
          },
          "metadata": {},
          "output_type": "display_data"
        }
      ],
      "source": [
        "sns.set_style('darkgrid')\n",
        "sns.lineplot(data=dependence, x='purpose_category', y='correlation')"
      ]
    },
    {
      "cell_type": "markdown",
      "id": "aa742955",
      "metadata": {
        "deletable": false,
        "id": "aa742955"
      },
      "source": [
        "**Вывод:** Самая высокая вероятность оплаты в срок в категории 'операции с недвижимостью', это вполне логично, т.к. наиболее вероятно это ипотека и никто не захочет потерять имущество из-за просрочки, здесь ответственность за своевременность платежа гораздо выше, чем у какого-либо иного кредитного продукта. У категории 'проведение свадьбы' тоже достаточно не плохой показатель, скорее всего, связано это с погашением кредита досрочно, с денежных средств полученных в виде подарка. Категории 'операции с автомобилем' и 'получение образования' находятся на одном уровне. При получении кредита на образование, человек вероятно рассчитывает на успешное окончание учёбы, дальшее трудоустройство на высокооплачиваемую работу и расчёт с кредитором, но не всё идёт гладко. И последняя категория, авто может ломаться, челоку придётся нести дополнительные затраты на ремонт и облужавание авто, что скорее всего не учитывается им при заключении кредитного договора, из-за возникновения дополнительных непредвиденных расходов, человек не успевает платить в срок. "
      ]
    },
    {
      "cell_type": "markdown",
      "id": "0d703d73",
      "metadata": {
        "deletable": false,
        "editable": false,
        "id": "0d703d73"
      },
      "source": [
        "#### 3.5 Приведите возможные причины появления пропусков в исходных данных."
      ]
    },
    {
      "cell_type": "markdown",
      "id": "001a9996",
      "metadata": {
        "deletable": false,
        "id": "001a9996"
      },
      "source": [
        "*Ответ:* Пропуски были в столбцах days_employed и total_income. Они взаимосвязаны, по этому, у нас было одинаковое кол-во пропусков в каждом. Пропущены значения в данных столбцах, были скорее всего по причине того, что человек брал небольшую сумму в кредит и банк не требовал подтверждения дохода и трудоустройства, по этому, эти поля можно было пропустить. "
      ]
    },
    {
      "cell_type": "markdown",
      "id": "dbe19c01",
      "metadata": {
        "deletable": false,
        "editable": false,
        "id": "dbe19c01"
      },
      "source": [
        "#### 3.6 Объясните, почему заполнить пропуски медианным значением — лучшее решение для количественных переменных."
      ]
    },
    {
      "cell_type": "markdown",
      "id": "7ad40f8c",
      "metadata": {
        "deletable": false,
        "id": "7ad40f8c"
      },
      "source": [
        "*Ответ:* У нас могут быть слишком выдающиеся значения и при подсчёт средного мы можем получить недостоверный результат. В таком случае лучше использовать медиану. "
      ]
    },
    {
      "cell_type": "markdown",
      "id": "8a1a2928",
      "metadata": {
        "deletable": false,
        "editable": false,
        "id": "8a1a2928"
      },
      "source": [
        "### Шаг 4: общий вывод."
      ]
    },
    {
      "cell_type": "code",
      "execution_count": null,
      "id": "9192cff7",
      "metadata": {
        "trusted": false,
        "id": "9192cff7",
        "outputId": "2afdfc3d-3d39-4cbc-9287-092d01f9b213"
      },
      "outputs": [
        {
          "data": {
            "text/html": "<div>\n<style scoped>\n    .dataframe tbody tr th:only-of-type {\n        vertical-align: middle;\n    }\n\n    .dataframe tbody tr th {\n        vertical-align: top;\n    }\n\n    .dataframe thead th {\n        text-align: right;\n    }\n</style>\n<table border=\"1\" class=\"dataframe\">\n  <thead>\n    <tr style=\"text-align: right;\">\n      <th></th>\n      <th>children</th>\n      <th>days_employed</th>\n      <th>dob_years</th>\n      <th>education</th>\n      <th>education_id</th>\n      <th>family_status</th>\n      <th>family_status_id</th>\n      <th>gender</th>\n      <th>income_type</th>\n      <th>debt</th>\n      <th>total_income</th>\n      <th>purpose</th>\n      <th>total_income_category</th>\n      <th>purpose_category</th>\n    </tr>\n  </thead>\n  <tbody>\n    <tr>\n      <th>3979</th>\n      <td>5</td>\n      <td>1572.328285</td>\n      <td>42</td>\n      <td>среднее</td>\n      <td>1</td>\n      <td>гражданский брак</td>\n      <td>1</td>\n      <td>M</td>\n      <td>сотрудник</td>\n      <td>0</td>\n      <td>142594</td>\n      <td>на покупку своего автомобиля</td>\n      <td>C</td>\n      <td>операции с автомобилем</td>\n    </tr>\n    <tr>\n      <th>4397</th>\n      <td>5</td>\n      <td>3248.839837</td>\n      <td>36</td>\n      <td>среднее</td>\n      <td>1</td>\n      <td>женат / замужем</td>\n      <td>0</td>\n      <td>F</td>\n      <td>компаньон</td>\n      <td>0</td>\n      <td>168460</td>\n      <td>операции с недвижимостью</td>\n      <td>C</td>\n      <td>операции с недвижимостью</td>\n    </tr>\n    <tr>\n      <th>7866</th>\n      <td>5</td>\n      <td>773.124856</td>\n      <td>36</td>\n      <td>среднее</td>\n      <td>1</td>\n      <td>женат / замужем</td>\n      <td>0</td>\n      <td>F</td>\n      <td>сотрудник</td>\n      <td>0</td>\n      <td>48772</td>\n      <td>операции с жильем</td>\n      <td>D</td>\n      <td>операции с недвижимостью</td>\n    </tr>\n    <tr>\n      <th>15822</th>\n      <td>5</td>\n      <td>418.199982</td>\n      <td>31</td>\n      <td>среднее</td>\n      <td>1</td>\n      <td>женат / замужем</td>\n      <td>0</td>\n      <td>F</td>\n      <td>сотрудник</td>\n      <td>0</td>\n      <td>77552</td>\n      <td>сделка с подержанным автомобилем</td>\n      <td>C</td>\n      <td>операции с автомобилем</td>\n    </tr>\n    <tr>\n      <th>15916</th>\n      <td>5</td>\n      <td>2286.262752</td>\n      <td>37</td>\n      <td>среднее</td>\n      <td>1</td>\n      <td>женат / замужем</td>\n      <td>0</td>\n      <td>F</td>\n      <td>сотрудник</td>\n      <td>0</td>\n      <td>256698</td>\n      <td>покупка недвижимости</td>\n      <td>B</td>\n      <td>операции с недвижимостью</td>\n    </tr>\n    <tr>\n      <th>16211</th>\n      <td>5</td>\n      <td>387.317579</td>\n      <td>35</td>\n      <td>среднее</td>\n      <td>1</td>\n      <td>гражданский брак</td>\n      <td>1</td>\n      <td>F</td>\n      <td>госслужащий</td>\n      <td>0</td>\n      <td>126102</td>\n      <td>на проведение свадьбы</td>\n      <td>C</td>\n      <td>проведение свадьбы</td>\n    </tr>\n    <tr>\n      <th>20452</th>\n      <td>5</td>\n      <td>268.425464</td>\n      <td>38</td>\n      <td>начальное</td>\n      <td>3</td>\n      <td>женат / замужем</td>\n      <td>0</td>\n      <td>F</td>\n      <td>сотрудник</td>\n      <td>0</td>\n      <td>212545</td>\n      <td>заняться высшим образованием</td>\n      <td>B</td>\n      <td>получение образования</td>\n    </tr>\n    <tr>\n      <th>20837</th>\n      <td>5</td>\n      <td>2386.600221</td>\n      <td>35</td>\n      <td>среднее</td>\n      <td>1</td>\n      <td>женат / замужем</td>\n      <td>0</td>\n      <td>F</td>\n      <td>компаньон</td>\n      <td>0</td>\n      <td>204241</td>\n      <td>жилье</td>\n      <td>B</td>\n      <td>операции с недвижимостью</td>\n    </tr>\n    <tr>\n      <th>21156</th>\n      <td>5</td>\n      <td>1690.018117</td>\n      <td>59</td>\n      <td>среднее</td>\n      <td>1</td>\n      <td>женат / замужем</td>\n      <td>0</td>\n      <td>M</td>\n      <td>сотрудник</td>\n      <td>0</td>\n      <td>269068</td>\n      <td>операции со своей недвижимостью</td>\n      <td>B</td>\n      <td>операции с недвижимостью</td>\n    </tr>\n  </tbody>\n</table>\n</div>",
            "text/plain": "       children  days_employed  dob_years  education  education_id  \\\n3979          5    1572.328285         42    среднее             1   \n4397          5    3248.839837         36    среднее             1   \n7866          5     773.124856         36    среднее             1   \n15822         5     418.199982         31    среднее             1   \n15916         5    2286.262752         37    среднее             1   \n16211         5     387.317579         35    среднее             1   \n20452         5     268.425464         38  начальное             3   \n20837         5    2386.600221         35    среднее             1   \n21156         5    1690.018117         59    среднее             1   \n\n          family_status  family_status_id gender  income_type  debt  \\\n3979   гражданский брак                 1      M    сотрудник     0   \n4397    женат / замужем                 0      F    компаньон     0   \n7866    женат / замужем                 0      F    сотрудник     0   \n15822   женат / замужем                 0      F    сотрудник     0   \n15916   женат / замужем                 0      F    сотрудник     0   \n16211  гражданский брак                 1      F  госслужащий     0   \n20452   женат / замужем                 0      F    сотрудник     0   \n20837   женат / замужем                 0      F    компаньон     0   \n21156   женат / замужем                 0      M    сотрудник     0   \n\n       total_income                           purpose total_income_category  \\\n3979         142594      на покупку своего автомобиля                     C   \n4397         168460          операции с недвижимостью                     C   \n7866          48772                 операции с жильем                     D   \n15822         77552  сделка с подержанным автомобилем                     C   \n15916        256698              покупка недвижимости                     B   \n16211        126102             на проведение свадьбы                     C   \n20452        212545      заняться высшим образованием                     B   \n20837        204241                             жилье                     B   \n21156        269068   операции со своей недвижимостью                     B   \n\n               purpose_category  \n3979     операции с автомобилем  \n4397   операции с недвижимостью  \n7866   операции с недвижимостью  \n15822    операции с автомобилем  \n15916  операции с недвижимостью  \n16211        проведение свадьбы  \n20452     получение образования  \n20837  операции с недвижимостью  \n21156  операции с недвижимостью  "
          },
          "execution_count": 35,
          "metadata": {},
          "output_type": "execute_result"
        }
      ],
      "source": [
        "data[data['children'] == 5]"
      ]
    },
    {
      "cell_type": "markdown",
      "id": "0f47cee4",
      "metadata": {
        "deletable": false,
        "id": "0f47cee4"
      },
      "source": [
        "Самая высокая возвратность кредитов у людей, у которых отсутствуют дети на иждивении(здесь я также придерживаюсь своего мнения об отсутствии необходимости учёта данных по людям с 5 детьми; очень смущает тот факт, что у людей с 4 детьми худший показатель по возвратности кредитов, в тоже время у людей с 5 детьми, полностью противоположный, думаю, их стоило бы учесть имея чуть больше данных. Учитывая другие показатели по таким людям, можно увидеть, что не все имеют высокий уровень дохода, кто-то со статусом 'гражданский брак' - где весьма не большой показетель возвратности, в том числе и цель получения кредита, есть категории в которых не самый хороший показетель по возврату), не состоящих в официальном браке, но ранее имевших такой статус, кредит на операции с недвижимостью и имеющими доход в пределах 50.000р. А вот скорее всего не вернёт кредит в срок, человек с 4 детьми на иждивении, не состоящий в официально зарегистрированном браке и низким уровнем дохода. "
      ]
    },
    {
      "cell_type": "markdown",
      "id": "75449ebc",
      "metadata": {
        "id": "75449ebc"
      },
      "source": [
        "<div class=\"alert alert-block alert-warning\">📝\n",
        "    \n",
        "\n",
        "__Комментарий от ревьюера №1__\n",
        "\n",
        "Шикарный вывод и рекомендации для бизнеса. Кстати, хорошей практикой является написание в общем выводе всех твоих действий (кратко) по проекту. Ведь вывод раскрывает для заказчика всю твою проделанную работу и за что он платит деньги, даже если ему не интересен весь процесс исследования, то в отчёт он заглянет обязательно. Ты молодец!\n",
        "</div>"
      ]
    },
    {
      "cell_type": "markdown",
      "id": "a46c3209",
      "metadata": {
        "id": "a46c3209"
      },
      "source": []
    },
    {
      "cell_type": "markdown",
      "id": "4de53859",
      "metadata": {
        "id": "4de53859"
      },
      "source": []
    },
    {
      "cell_type": "markdown",
      "id": "7a0de2fd",
      "metadata": {
        "id": "7a0de2fd"
      },
      "source": [
        "<div style=\"border:solid blue 3px; padding: 20px\">\n",
        "<div class=\"alert alert-block alert-success\">✔️\n",
        "Комментарий от ревьюера №1 </b> \n",
        "\n",
        "\n",
        "\n",
        "У тебя получилась очень сильная и хорошая работа. Здорово, что не забываешь про комментарии, твой проект интересно проверять. \n",
        "\n",
        "---\n",
        "\n",
        "Нужно поправить:\n",
        "\n",
        "1) Ничего, отличная работа!)\n",
        "\n",
        "----\n",
        "\n",
        "\n",
        "Если у тебя будут какие-то вопросы по моим комментариям - обязательно пиши! Буду ждать работу на повторное ревью :)</div>"
      ]
    },
    {
      "cell_type": "code",
      "execution_count": null,
      "id": "e37e3027",
      "metadata": {
        "trusted": false,
        "id": "e37e3027"
      },
      "outputs": [],
      "source": []
    }
  ],
  "metadata": {
    "ExecuteTimeLog": [
      {
        "duration": 535,
        "start_time": "2023-02-07T09:44:33.841Z"
      },
      {
        "duration": 20,
        "start_time": "2023-02-07T09:44:34.378Z"
      },
      {
        "duration": 14,
        "start_time": "2023-02-07T09:44:34.400Z"
      },
      {
        "duration": 10,
        "start_time": "2023-02-07T09:44:34.416Z"
      },
      {
        "duration": 50,
        "start_time": "2023-02-07T09:44:34.427Z"
      },
      {
        "duration": 3,
        "start_time": "2023-02-07T09:44:34.479Z"
      },
      {
        "duration": 12,
        "start_time": "2023-02-07T09:44:34.483Z"
      },
      {
        "duration": 4,
        "start_time": "2023-02-07T09:44:34.497Z"
      },
      {
        "duration": 12,
        "start_time": "2023-02-07T09:44:34.502Z"
      },
      {
        "duration": 5,
        "start_time": "2023-02-07T09:44:34.517Z"
      },
      {
        "duration": 57,
        "start_time": "2023-02-07T09:44:34.523Z"
      },
      {
        "duration": 11,
        "start_time": "2023-02-07T09:44:34.581Z"
      },
      {
        "duration": 5,
        "start_time": "2023-02-07T09:44:34.593Z"
      },
      {
        "duration": 12,
        "start_time": "2023-02-07T09:44:34.600Z"
      },
      {
        "duration": 39,
        "start_time": "2023-02-07T09:44:34.614Z"
      },
      {
        "duration": 17,
        "start_time": "2023-02-07T09:44:34.655Z"
      },
      {
        "duration": 3,
        "start_time": "2023-02-07T09:44:34.674Z"
      },
      {
        "duration": 18,
        "start_time": "2023-02-07T09:44:34.679Z"
      },
      {
        "duration": 15,
        "start_time": "2023-02-07T09:44:34.698Z"
      },
      {
        "duration": 4,
        "start_time": "2023-02-07T09:44:34.714Z"
      },
      {
        "duration": 13,
        "start_time": "2023-02-07T09:44:34.719Z"
      },
      {
        "duration": 2,
        "start_time": "2023-02-07T09:44:34.734Z"
      },
      {
        "duration": 20,
        "start_time": "2023-02-07T09:44:34.738Z"
      },
      {
        "duration": 8,
        "start_time": "2023-02-07T09:44:34.760Z"
      },
      {
        "duration": 10,
        "start_time": "2023-02-07T09:44:34.770Z"
      },
      {
        "duration": 16,
        "start_time": "2023-02-07T09:45:52.308Z"
      },
      {
        "duration": 21,
        "start_time": "2023-02-07T09:45:59.827Z"
      },
      {
        "duration": 84,
        "start_time": "2023-02-07T09:46:19.780Z"
      },
      {
        "duration": 13,
        "start_time": "2023-02-07T09:46:56.412Z"
      },
      {
        "duration": 13,
        "start_time": "2023-02-07T09:47:59.125Z"
      },
      {
        "duration": 16,
        "start_time": "2023-02-07T09:49:28.097Z"
      },
      {
        "duration": 11,
        "start_time": "2023-02-07T09:53:18.256Z"
      },
      {
        "duration": 12,
        "start_time": "2023-02-07T09:58:14.241Z"
      },
      {
        "duration": 6,
        "start_time": "2023-02-07T10:00:36.713Z"
      },
      {
        "duration": 10,
        "start_time": "2023-02-07T10:00:42.196Z"
      },
      {
        "duration": 14,
        "start_time": "2023-02-07T10:04:57.774Z"
      },
      {
        "duration": 11,
        "start_time": "2023-02-07T10:05:12.183Z"
      },
      {
        "duration": 24,
        "start_time": "2023-02-07T10:05:40.060Z"
      },
      {
        "duration": 7,
        "start_time": "2023-02-07T10:08:11.056Z"
      },
      {
        "duration": 704,
        "start_time": "2023-02-07T10:10:17.613Z"
      },
      {
        "duration": 11,
        "start_time": "2023-02-07T10:10:32.213Z"
      },
      {
        "duration": 694,
        "start_time": "2023-02-07T10:12:03.040Z"
      },
      {
        "duration": 213,
        "start_time": "2023-02-07T10:12:39.977Z"
      },
      {
        "duration": 821,
        "start_time": "2023-02-07T10:13:42.169Z"
      },
      {
        "duration": 693,
        "start_time": "2023-02-07T10:15:08.487Z"
      },
      {
        "duration": 717,
        "start_time": "2023-02-07T10:16:24.035Z"
      },
      {
        "duration": 831,
        "start_time": "2023-02-07T10:18:16.857Z"
      },
      {
        "duration": 466,
        "start_time": "2023-02-07T10:18:44.956Z"
      },
      {
        "duration": 30,
        "start_time": "2023-02-07T10:18:45.424Z"
      },
      {
        "duration": 22,
        "start_time": "2023-02-07T10:18:45.456Z"
      },
      {
        "duration": 14,
        "start_time": "2023-02-07T10:18:45.480Z"
      },
      {
        "duration": 59,
        "start_time": "2023-02-07T10:18:45.496Z"
      },
      {
        "duration": 4,
        "start_time": "2023-02-07T10:18:45.557Z"
      },
      {
        "duration": 30,
        "start_time": "2023-02-07T10:18:45.563Z"
      },
      {
        "duration": 8,
        "start_time": "2023-02-07T10:18:45.595Z"
      },
      {
        "duration": 11,
        "start_time": "2023-02-07T10:18:45.605Z"
      },
      {
        "duration": 4,
        "start_time": "2023-02-07T10:18:45.620Z"
      },
      {
        "duration": 64,
        "start_time": "2023-02-07T10:18:45.626Z"
      },
      {
        "duration": 15,
        "start_time": "2023-02-07T10:18:45.693Z"
      },
      {
        "duration": 10,
        "start_time": "2023-02-07T10:18:45.710Z"
      },
      {
        "duration": 16,
        "start_time": "2023-02-07T10:18:45.722Z"
      },
      {
        "duration": 24,
        "start_time": "2023-02-07T10:18:45.752Z"
      },
      {
        "duration": 20,
        "start_time": "2023-02-07T10:18:45.777Z"
      },
      {
        "duration": 4,
        "start_time": "2023-02-07T10:18:45.799Z"
      },
      {
        "duration": 19,
        "start_time": "2023-02-07T10:18:45.805Z"
      },
      {
        "duration": 33,
        "start_time": "2023-02-07T10:18:45.825Z"
      },
      {
        "duration": 4,
        "start_time": "2023-02-07T10:18:45.859Z"
      },
      {
        "duration": 20,
        "start_time": "2023-02-07T10:18:45.865Z"
      },
      {
        "duration": 797,
        "start_time": "2023-02-07T10:18:45.887Z"
      },
      {
        "duration": 0,
        "start_time": "2023-02-07T10:18:46.686Z"
      },
      {
        "duration": 0,
        "start_time": "2023-02-07T10:18:46.687Z"
      },
      {
        "duration": 0,
        "start_time": "2023-02-07T10:18:46.689Z"
      },
      {
        "duration": 212,
        "start_time": "2023-02-07T10:19:51.957Z"
      },
      {
        "duration": 18,
        "start_time": "2023-02-07T10:20:38.999Z"
      },
      {
        "duration": 708,
        "start_time": "2023-02-07T10:21:20.382Z"
      },
      {
        "duration": 184,
        "start_time": "2023-02-07T10:23:18.540Z"
      },
      {
        "duration": 20,
        "start_time": "2023-02-07T10:23:37.446Z"
      },
      {
        "duration": 721,
        "start_time": "2023-02-07T10:23:55.500Z"
      },
      {
        "duration": 826,
        "start_time": "2023-02-07T10:24:54.758Z"
      },
      {
        "duration": 847,
        "start_time": "2023-02-07T10:25:14.261Z"
      },
      {
        "duration": 11,
        "start_time": "2023-02-07T10:25:26.480Z"
      },
      {
        "duration": 18,
        "start_time": "2023-02-07T10:25:36.677Z"
      },
      {
        "duration": 14,
        "start_time": "2023-02-07T10:26:51.709Z"
      },
      {
        "duration": 177,
        "start_time": "2023-02-07T10:27:26.726Z"
      },
      {
        "duration": 17,
        "start_time": "2023-02-07T10:27:30.736Z"
      },
      {
        "duration": 14,
        "start_time": "2023-02-07T10:27:57.668Z"
      },
      {
        "duration": 56,
        "start_time": "2023-02-07T10:30:01.849Z"
      },
      {
        "duration": 19,
        "start_time": "2023-02-07T10:30:11.238Z"
      },
      {
        "duration": 729,
        "start_time": "2023-02-07T10:31:21.701Z"
      },
      {
        "duration": 19,
        "start_time": "2023-02-07T10:31:26.887Z"
      },
      {
        "duration": 13,
        "start_time": "2023-02-07T10:31:40.397Z"
      },
      {
        "duration": 28,
        "start_time": "2023-02-07T10:32:39.623Z"
      },
      {
        "duration": 1010,
        "start_time": "2023-02-07T10:36:35.334Z"
      },
      {
        "duration": 1237,
        "start_time": "2023-02-07T10:36:42.628Z"
      },
      {
        "duration": 20,
        "start_time": "2023-02-07T10:36:43.867Z"
      },
      {
        "duration": 18,
        "start_time": "2023-02-07T10:36:43.889Z"
      },
      {
        "duration": 10,
        "start_time": "2023-02-07T10:36:43.909Z"
      },
      {
        "duration": 62,
        "start_time": "2023-02-07T10:36:43.921Z"
      },
      {
        "duration": 3,
        "start_time": "2023-02-07T10:36:43.985Z"
      },
      {
        "duration": 15,
        "start_time": "2023-02-07T10:36:43.990Z"
      },
      {
        "duration": 6,
        "start_time": "2023-02-07T10:36:44.006Z"
      },
      {
        "duration": 10,
        "start_time": "2023-02-07T10:36:44.014Z"
      },
      {
        "duration": 4,
        "start_time": "2023-02-07T10:36:44.027Z"
      },
      {
        "duration": 38,
        "start_time": "2023-02-07T10:36:44.053Z"
      },
      {
        "duration": 11,
        "start_time": "2023-02-07T10:36:44.092Z"
      },
      {
        "duration": 9,
        "start_time": "2023-02-07T10:36:44.104Z"
      },
      {
        "duration": 14,
        "start_time": "2023-02-07T10:36:44.114Z"
      },
      {
        "duration": 41,
        "start_time": "2023-02-07T10:36:44.129Z"
      },
      {
        "duration": 18,
        "start_time": "2023-02-07T10:36:44.171Z"
      },
      {
        "duration": 4,
        "start_time": "2023-02-07T10:36:44.191Z"
      },
      {
        "duration": 16,
        "start_time": "2023-02-07T10:36:44.196Z"
      },
      {
        "duration": 10,
        "start_time": "2023-02-07T10:36:44.214Z"
      },
      {
        "duration": 5,
        "start_time": "2023-02-07T10:36:44.225Z"
      },
      {
        "duration": 33,
        "start_time": "2023-02-07T10:36:44.231Z"
      },
      {
        "duration": 33,
        "start_time": "2023-02-07T10:36:44.265Z"
      },
      {
        "duration": 2,
        "start_time": "2023-02-07T10:36:44.301Z"
      },
      {
        "duration": 6,
        "start_time": "2023-02-07T10:36:44.305Z"
      },
      {
        "duration": 6,
        "start_time": "2023-02-07T10:36:44.313Z"
      },
      {
        "duration": 107,
        "start_time": "2023-02-07T10:38:07.263Z"
      },
      {
        "duration": 21,
        "start_time": "2023-02-07T10:39:15.255Z"
      },
      {
        "duration": 151,
        "start_time": "2023-02-07T10:39:29.134Z"
      },
      {
        "duration": 161,
        "start_time": "2023-02-07T10:40:25.359Z"
      },
      {
        "duration": 25,
        "start_time": "2023-02-07T10:41:28.799Z"
      },
      {
        "duration": 146,
        "start_time": "2023-02-07T10:41:40.463Z"
      },
      {
        "duration": 148,
        "start_time": "2023-02-07T10:42:32.071Z"
      },
      {
        "duration": 169,
        "start_time": "2023-02-07T10:42:53.689Z"
      },
      {
        "duration": 143,
        "start_time": "2023-02-07T10:42:58.584Z"
      },
      {
        "duration": 183,
        "start_time": "2023-02-07T10:43:04.597Z"
      },
      {
        "duration": 179,
        "start_time": "2023-02-07T10:43:20.368Z"
      },
      {
        "duration": 179,
        "start_time": "2023-02-07T10:45:09.776Z"
      },
      {
        "duration": 206,
        "start_time": "2023-02-07T10:45:35.042Z"
      },
      {
        "duration": 153,
        "start_time": "2023-02-07T10:46:20.490Z"
      },
      {
        "duration": 22,
        "start_time": "2023-02-07T10:46:33.890Z"
      },
      {
        "duration": 16,
        "start_time": "2023-02-07T10:51:07.866Z"
      },
      {
        "duration": 137,
        "start_time": "2023-02-07T10:51:09.964Z"
      },
      {
        "duration": 16,
        "start_time": "2023-02-07T10:52:34.139Z"
      },
      {
        "duration": 23,
        "start_time": "2023-02-07T10:52:50.655Z"
      },
      {
        "duration": 47,
        "start_time": "2023-02-07T10:52:58.716Z"
      },
      {
        "duration": 14,
        "start_time": "2023-02-07T10:54:24.535Z"
      },
      {
        "duration": 18,
        "start_time": "2023-02-07T10:54:43.380Z"
      },
      {
        "duration": 15,
        "start_time": "2023-02-07T10:54:48.028Z"
      },
      {
        "duration": 163,
        "start_time": "2023-02-07T10:55:54.130Z"
      },
      {
        "duration": 18,
        "start_time": "2023-02-07T11:06:16.296Z"
      },
      {
        "duration": 17,
        "start_time": "2023-02-07T11:06:27.599Z"
      },
      {
        "duration": 20,
        "start_time": "2023-02-07T11:06:34.441Z"
      },
      {
        "duration": 17,
        "start_time": "2023-02-07T11:06:49.327Z"
      },
      {
        "duration": 20,
        "start_time": "2023-02-07T11:06:57.128Z"
      },
      {
        "duration": 8,
        "start_time": "2023-02-07T11:20:18.658Z"
      },
      {
        "duration": 12,
        "start_time": "2023-02-07T11:21:01.318Z"
      },
      {
        "duration": 19,
        "start_time": "2023-02-07T11:21:30.947Z"
      },
      {
        "duration": 152,
        "start_time": "2023-02-07T11:32:25.861Z"
      },
      {
        "duration": 171,
        "start_time": "2023-02-07T11:32:45.471Z"
      },
      {
        "duration": 193,
        "start_time": "2023-02-07T11:33:43.757Z"
      },
      {
        "duration": 277,
        "start_time": "2023-02-07T11:34:31.186Z"
      },
      {
        "duration": 14,
        "start_time": "2023-02-07T11:35:03.671Z"
      },
      {
        "duration": 16,
        "start_time": "2023-02-07T11:35:17.143Z"
      },
      {
        "duration": 151,
        "start_time": "2023-02-07T11:35:24.054Z"
      },
      {
        "duration": 175,
        "start_time": "2023-02-07T11:36:41.190Z"
      },
      {
        "duration": 182,
        "start_time": "2023-02-07T11:36:51.158Z"
      },
      {
        "duration": 32,
        "start_time": "2023-02-07T11:37:45.904Z"
      },
      {
        "duration": 12,
        "start_time": "2023-02-07T11:38:33.654Z"
      },
      {
        "duration": 16,
        "start_time": "2023-02-07T11:39:16.743Z"
      },
      {
        "duration": 15,
        "start_time": "2023-02-07T11:39:29.654Z"
      },
      {
        "duration": 17,
        "start_time": "2023-02-07T11:39:32.328Z"
      },
      {
        "duration": 16,
        "start_time": "2023-02-07T11:39:36.863Z"
      },
      {
        "duration": 1217,
        "start_time": "2023-02-07T11:39:58.034Z"
      },
      {
        "duration": 19,
        "start_time": "2023-02-07T11:39:59.253Z"
      },
      {
        "duration": 14,
        "start_time": "2023-02-07T11:39:59.273Z"
      },
      {
        "duration": 10,
        "start_time": "2023-02-07T11:39:59.289Z"
      },
      {
        "duration": 59,
        "start_time": "2023-02-07T11:39:59.300Z"
      },
      {
        "duration": 4,
        "start_time": "2023-02-07T11:39:59.361Z"
      },
      {
        "duration": 11,
        "start_time": "2023-02-07T11:39:59.366Z"
      },
      {
        "duration": 5,
        "start_time": "2023-02-07T11:39:59.379Z"
      },
      {
        "duration": 8,
        "start_time": "2023-02-07T11:39:59.385Z"
      },
      {
        "duration": 4,
        "start_time": "2023-02-07T11:39:59.397Z"
      },
      {
        "duration": 67,
        "start_time": "2023-02-07T11:39:59.403Z"
      },
      {
        "duration": 9,
        "start_time": "2023-02-07T11:39:59.472Z"
      },
      {
        "duration": 6,
        "start_time": "2023-02-07T11:39:59.483Z"
      },
      {
        "duration": 14,
        "start_time": "2023-02-07T11:39:59.491Z"
      },
      {
        "duration": 22,
        "start_time": "2023-02-07T11:39:59.507Z"
      },
      {
        "duration": 38,
        "start_time": "2023-02-07T11:39:59.531Z"
      },
      {
        "duration": 3,
        "start_time": "2023-02-07T11:39:59.571Z"
      },
      {
        "duration": 14,
        "start_time": "2023-02-07T11:39:59.576Z"
      },
      {
        "duration": 6,
        "start_time": "2023-02-07T11:39:59.592Z"
      },
      {
        "duration": 5,
        "start_time": "2023-02-07T11:39:59.600Z"
      },
      {
        "duration": 15,
        "start_time": "2023-02-07T11:39:59.607Z"
      },
      {
        "duration": 40,
        "start_time": "2023-02-07T11:39:59.624Z"
      },
      {
        "duration": 196,
        "start_time": "2023-02-07T11:39:59.665Z"
      },
      {
        "duration": 22,
        "start_time": "2023-02-07T11:39:59.863Z"
      },
      {
        "duration": 217,
        "start_time": "2023-02-07T11:39:59.886Z"
      },
      {
        "duration": 18,
        "start_time": "2023-02-07T11:40:00.104Z"
      },
      {
        "duration": 2,
        "start_time": "2023-02-07T11:40:00.124Z"
      },
      {
        "duration": 112,
        "start_time": "2023-02-07T11:40:26.367Z"
      },
      {
        "duration": 15,
        "start_time": "2023-02-07T11:40:31.112Z"
      },
      {
        "duration": 1228,
        "start_time": "2023-02-07T11:40:40.959Z"
      },
      {
        "duration": 19,
        "start_time": "2023-02-07T11:40:42.189Z"
      },
      {
        "duration": 15,
        "start_time": "2023-02-07T11:40:42.210Z"
      },
      {
        "duration": 27,
        "start_time": "2023-02-07T11:40:42.227Z"
      },
      {
        "duration": 36,
        "start_time": "2023-02-07T11:40:42.256Z"
      },
      {
        "duration": 4,
        "start_time": "2023-02-07T11:40:42.294Z"
      },
      {
        "duration": 11,
        "start_time": "2023-02-07T11:40:42.299Z"
      },
      {
        "duration": 4,
        "start_time": "2023-02-07T11:40:42.312Z"
      },
      {
        "duration": 37,
        "start_time": "2023-02-07T11:40:42.317Z"
      },
      {
        "duration": 4,
        "start_time": "2023-02-07T11:40:42.357Z"
      },
      {
        "duration": 39,
        "start_time": "2023-02-07T11:40:42.362Z"
      },
      {
        "duration": 9,
        "start_time": "2023-02-07T11:40:42.403Z"
      },
      {
        "duration": 3,
        "start_time": "2023-02-07T11:40:42.414Z"
      },
      {
        "duration": 12,
        "start_time": "2023-02-07T11:40:42.419Z"
      },
      {
        "duration": 30,
        "start_time": "2023-02-07T11:40:42.454Z"
      },
      {
        "duration": 20,
        "start_time": "2023-02-07T11:40:42.486Z"
      },
      {
        "duration": 5,
        "start_time": "2023-02-07T11:40:42.508Z"
      },
      {
        "duration": 13,
        "start_time": "2023-02-07T11:40:42.514Z"
      },
      {
        "duration": 26,
        "start_time": "2023-02-07T11:40:42.528Z"
      },
      {
        "duration": 14,
        "start_time": "2023-02-07T11:40:42.556Z"
      },
      {
        "duration": 14,
        "start_time": "2023-02-07T11:40:42.572Z"
      },
      {
        "duration": 23,
        "start_time": "2023-02-07T11:40:42.587Z"
      },
      {
        "duration": 168,
        "start_time": "2023-02-07T11:40:42.612Z"
      },
      {
        "duration": 17,
        "start_time": "2023-02-07T11:40:42.782Z"
      },
      {
        "duration": 208,
        "start_time": "2023-02-07T11:40:42.801Z"
      },
      {
        "duration": 21,
        "start_time": "2023-02-07T11:40:43.010Z"
      },
      {
        "duration": 3,
        "start_time": "2023-02-07T11:40:43.033Z"
      },
      {
        "duration": 20,
        "start_time": "2023-02-07T11:41:22.375Z"
      },
      {
        "duration": 103,
        "start_time": "2023-02-07T11:41:23.654Z"
      },
      {
        "duration": 186,
        "start_time": "2023-02-07T11:41:35.113Z"
      },
      {
        "duration": 18,
        "start_time": "2023-02-07T11:53:10.211Z"
      },
      {
        "duration": 19,
        "start_time": "2023-02-07T11:53:19.411Z"
      },
      {
        "duration": 193,
        "start_time": "2023-02-07T11:53:30.730Z"
      },
      {
        "duration": 17,
        "start_time": "2023-02-07T12:22:21.457Z"
      },
      {
        "duration": 16,
        "start_time": "2023-02-07T12:27:00.218Z"
      },
      {
        "duration": 22,
        "start_time": "2023-02-07T12:33:19.122Z"
      }
    ],
    "colab": {
      "provenance": []
    },
    "kernelspec": {
      "display_name": "Python 3 (ipykernel)",
      "language": "python",
      "name": "python3"
    },
    "language_info": {
      "codemirror_mode": {
        "name": "ipython",
        "version": 3
      },
      "file_extension": ".py",
      "mimetype": "text/x-python",
      "name": "python",
      "nbconvert_exporter": "python",
      "pygments_lexer": "ipython3",
      "version": "3.9.5"
    },
    "toc": {
      "base_numbering": 1,
      "nav_menu": {},
      "number_sections": true,
      "sideBar": true,
      "skip_h1_title": true,
      "title_cell": "Table of Contents",
      "title_sidebar": "Contents",
      "toc_cell": false,
      "toc_position": {},
      "toc_section_display": true,
      "toc_window_display": true
    }
  },
  "nbformat": 4,
  "nbformat_minor": 5
}